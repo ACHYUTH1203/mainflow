{
 "cells": [
  {
   "cell_type": "code",
   "execution_count": 2,
   "id": "ee877160-9e0b-48a9-8ce8-6482b596d85d",
   "metadata": {},
   "outputs": [
    {
     "name": "stdout",
     "output_type": "stream",
     "text": [
      "Addition: 8\n",
      "Subtraction: 2\n",
      "Multiplication: 15\n",
      "Division: 1.6666666666666667\n"
     ]
    }
   ],
   "source": [
    "# Arithmetic Operations\n",
    "x = 5\n",
    "y = 3\n",
    "\n",
    "# Addition\n",
    "result = x + y\n",
    "print(\"Addition:\", result)\n",
    "\n",
    "# Subtraction\n",
    "result = x - y\n",
    "print(\"Subtraction:\", result)\n",
    "\n",
    "# Multiplication\n",
    "result = x * y\n",
    "print(\"Multiplication:\", result)\n",
    "\n",
    "# Division\n",
    "result = x / y\n",
    "print(\"Division:\", result)"
   ]
  },
  {
   "cell_type": "code",
   "execution_count": 3,
   "id": "93125e5f-a436-4cc2-99e7-ae8a7569b4a7",
   "metadata": {},
   "outputs": [
    {
     "name": "stdout",
     "output_type": "stream",
     "text": [
      "Hello, jay!\n"
     ]
    }
   ],
   "source": [
    "# String Manipulation\n",
    "name = \"jay\"\n",
    "greeting = \"Hello, \" + name + \"!\"\n",
    "\n",
    "print(greeting)"
   ]
  },
  {
   "cell_type": "code",
   "execution_count": 4,
   "id": "b28c0361-83de-4c0d-aa27-ac7be7965382",
   "metadata": {},
   "outputs": [
    {
     "name": "stdout",
     "output_type": "stream",
     "text": [
      "You are eligible to vote.\n",
      "Grade: B\n"
     ]
    }
   ],
   "source": [
    "# Conditional Statements\n",
    "age = 25\n",
    "\n",
    "if age >= 18:\n",
    "    print(\"You are eligible to vote.\")\n",
    "else:\n",
    "    print(\"You are not eligible to vote.\")\n",
    "\n",
    "# Conditional Statement with elif\n",
    "score = 80\n",
    "\n",
    "if score >= 90:\n",
    "    print(\"Grade: A\")\n",
    "elif score >= 80:\n",
    "    print(\"Grade: B\")\n",
    "elif score >= 70:\n",
    "    print(\"Grade: C\")\n",
    "else:\n",
    "    print(\"Grade: F\")"
   ]
  },
  {
   "cell_type": "code",
   "execution_count": 5,
   "id": "fba1fd16-b327-4a83-913e-1974dd22daf4",
   "metadata": {},
   "outputs": [
    {
     "name": "stdout",
     "output_type": "stream",
     "text": [
      "updated list:  [1, 2, 15, 5, 8]\n"
     ]
    }
   ],
   "source": [
    "\n",
    "#list\n",
    "my_list=[1,2,3,4,5]\n",
    "\n",
    "my_list.append(8)\n",
    "my_list.remove(3)\n",
    "my_list[2]=15\n",
    "\n",
    "print(\"updated list: \",my_list)"
   ]
  },
  {
   "cell_type": "code",
   "execution_count": 6,
   "id": "41daa294-d729-426b-aabe-72c64e44656e",
   "metadata": {},
   "outputs": [
    {
     "name": "stdout",
     "output_type": "stream",
     "text": [
      "Updated dictionary:  {'name': 'jay', 'Age': 21, 'gender': 'male', 'age': 23}\n"
     ]
    }
   ],
   "source": [
    "#dictionary\n",
    "my_dict = {'name': 'jay', 'Age': 21, 'city' : 'Hyderabad'}\n",
    "\n",
    "my_dict['gender'] = 'male'\n",
    "del my_dict['city']\n",
    "my_dict['age'] = 23\n",
    "print(\"Updated dictionary: \", my_dict)"
   ]
  },
  {
   "cell_type": "code",
   "execution_count": 7,
   "id": "2f8f30a1-6b5f-432a-8d55-73fb956654f7",
   "metadata": {},
   "outputs": [
    {
     "name": "stdout",
     "output_type": "stream",
     "text": [
      "Updated set:  {1, 2, 4, 5, 6}\n"
     ]
    }
   ],
   "source": [
    "#sets\n",
    "my_set={1,2,3,4,5}\n",
    "\n",
    "my_set.add(6)\n",
    "my_set.remove(3)\n",
    "my_set.discard(7)\n",
    "\n",
    "print(\"Updated set: \",my_set)"
   ]
  },
  {
   "cell_type": "code",
   "execution_count": 8,
   "id": "b1014f64-0f2b-48fe-914a-2ce77edd59cb",
   "metadata": {},
   "outputs": [
    {
     "name": "stdout",
     "output_type": "stream",
     "text": [
      "Original Tuple: (1, 2, 3, 4, 5)\n",
      "First element: 1\n",
      "Last element: 5\n",
      "Slice from index 1 to 3: (2, 3)\n"
     ]
    }
   ],
   "source": [
    "# Create a tuple\n",
    "my_tuple = (1, 2, 3, 4, 5)\n",
    "print(\"Original Tuple:\", my_tuple)\n",
    "# Indexing and Slicing\n",
    "print(\"First element:\", my_tuple[0])\n",
    "print(\"Last element:\", my_tuple[-1])\n",
    "print(\"Slice from index 1 to 3:\", my_tuple[1:3])"
   ]
  },
  {
   "cell_type": "code",
   "execution_count": 9,
   "id": "df2100b6-3a61-4646-8f9c-335936a4ef8f",
   "metadata": {},
   "outputs": [
    {
     "name": "stdout",
     "output_type": "stream",
     "text": [
      "Concatenated Tuple: (1, 2, 3, 4, 5, 6)\n",
      "Multiplied Tuple: (1, 2, 3, 4, 5, 1, 2, 3, 4, 5, 1, 2, 3, 4, 5)\n",
      "Length of the tuple: 5\n"
     ]
    }
   ],
   "source": [
    "# Tuple Concatenation\n",
    "tuple1 = (1, 2, 3)\n",
    "tuple2 = (4, 5, 6)\n",
    "concat_tuple = tuple1 + tuple2\n",
    "print(\"Concatenated Tuple:\", concat_tuple)\n",
    "\n",
    "# Tuple Multiplication\n",
    "multiplied_tuple = my_tuple * 3\n",
    "print(\"Multiplied Tuple:\", multiplied_tuple)\n",
    "\n",
    "# Tuple Length\n",
    "print(\"Length of the tuple:\", len(my_tuple))\n"
   ]
  },
  {
   "cell_type": "code",
   "execution_count": null,
   "id": "208861d8-38a4-4a6b-9093-e2d415e80aaa",
   "metadata": {},
   "outputs": [],
   "source": []
  }
 ],
 "metadata": {
  "kernelspec": {
   "display_name": "Python 3 (ipykernel)",
   "language": "python",
   "name": "python3"
  },
  "language_info": {
   "codemirror_mode": {
    "name": "ipython",
    "version": 3
   },
   "file_extension": ".py",
   "mimetype": "text/x-python",
   "name": "python",
   "nbconvert_exporter": "python",
   "pygments_lexer": "ipython3",
   "version": "3.11.4"
  }
 },
 "nbformat": 4,
 "nbformat_minor": 5
}
